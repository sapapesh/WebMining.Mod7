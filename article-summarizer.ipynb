{
 "cells": [
  {
   "cell_type": "markdown",
   "metadata": {},
   "source": [
    "# Web Mining and Applied NLP (44-620)\n",
    "\n",
    "## Final Project: Article Summarizer\n",
    "\n",
    "### Student Name: Sarah Howard\n",
    "\n",
    "### Github Repository: https://github.com/sapapesh/WebMining.Mod7\n",
    "\n",
    "Perform the tasks described in the Markdown cells below.  When you have completed the assignment make sure your code cells have all been run (and have output beneath them) and ensure you have committed and pushed ALL of your changes to your assignment repository.\n",
    "\n",
    "You should bring in code from previous assignments to help you answer the questions below.\n",
    "\n",
    "Every question that requires you to write code will have a code cell underneath it; you may either write your entire solution in that cell or write it in a python file (`.py`), then import and run the appropriate code to answer the question."
   ]
  },
  {
   "cell_type": "code",
   "execution_count": 8,
   "metadata": {},
   "outputs": [
    {
     "name": "stdout",
     "output_type": "stream",
     "text": [
      "Package            Version\n",
      "------------------ ------------\n",
      "annotated-types    0.7.0\n",
      "asttokens          3.0.0\n",
      "beautifulsoup4     4.12.3\n",
      "blis               1.0.1\n",
      "catalogue          2.0.10\n",
      "certifi            2024.8.30\n",
      "charset-normalizer 3.4.0\n",
      "click              8.1.7\n",
      "cloudpathlib       0.20.0\n",
      "colorama           0.4.6\n",
      "comm               0.2.2\n",
      "confection         0.1.5\n",
      "contourpy          1.3.1\n",
      "cycler             0.12.1\n",
      "cymem              2.0.10\n",
      "debugpy            1.8.9\n",
      "decorator          5.1.1\n",
      "en_core_web_sm     3.8.0\n",
      "executing          2.1.0\n",
      "fonttools          4.55.0\n",
      "html5lib           1.1\n",
      "idna               3.10\n",
      "ipykernel          6.29.5\n",
      "ipython            8.30.0\n",
      "jedi               0.19.2\n",
      "Jinja2             3.1.4\n",
      "joblib             1.4.2\n",
      "jupyter_client     8.6.3\n",
      "jupyter_core       5.7.2\n",
      "kiwisolver         1.4.7\n",
      "langcodes          3.5.0\n",
      "language_data      1.3.0\n",
      "marisa-trie        1.2.1\n",
      "markdown-it-py     3.0.0\n",
      "MarkupSafe         3.0.2\n",
      "matplotlib         3.9.3\n",
      "matplotlib-inline  0.1.7\n",
      "mdurl              0.1.2\n",
      "murmurhash         1.0.11\n",
      "nest-asyncio       1.6.0\n",
      "nltk               3.9.1\n",
      "numpy              2.0.2\n",
      "packaging          24.2\n",
      "parso              0.8.4\n",
      "pillow             11.0.0\n",
      "pip                24.3.1\n",
      "platformdirs       4.3.6\n",
      "preshed            3.0.9\n",
      "prompt_toolkit     3.0.48\n",
      "psutil             6.1.0\n",
      "pure_eval          0.2.3\n",
      "pydantic           2.10.2\n",
      "pydantic_core      2.27.1\n",
      "Pygments           2.18.0\n",
      "pyparsing          3.2.0\n",
      "python-dateutil    2.9.0.post0\n",
      "pywin32            308\n",
      "pyzmq              26.2.0\n",
      "regex              2024.11.6\n",
      "requests           2.32.3\n",
      "rich               13.9.4\n",
      "setuptools         75.6.0\n",
      "shellingham        1.5.4\n",
      "six                1.16.0\n",
      "smart-open         7.0.5\n",
      "soupsieve          2.6\n",
      "spacy              3.8.2\n",
      "spacy-legacy       3.0.12\n",
      "spacy-loggers      1.0.5\n",
      "spacytextblob      5.0.0\n",
      "srsly              2.4.8\n",
      "stack-data         0.6.3\n",
      "textblob           0.18.0.post0\n",
      "thinc              8.3.2\n",
      "tornado            6.4.2\n",
      "tqdm               4.67.1\n",
      "traitlets          5.14.3\n",
      "typer              0.14.0\n",
      "typing_extensions  4.12.2\n",
      "urllib3            2.2.3\n",
      "wasabi             1.1.3\n",
      "wcwidth            0.2.13\n",
      "weasel             0.4.1\n",
      "webencodings       0.5.1\n",
      "wrapt              1.17.0\n",
      "All prereqs installed.\n"
     ]
    }
   ],
   "source": [
    "import matplotlib.pyplot as plt\n",
    "import json\n",
    "import pickle\n",
    "import requests\n",
    "import spacy\n",
    "from spacytextblob.spacytextblob import SpacyTextBlob\n",
    "from collections import Counter\n",
    "from bs4 import BeautifulSoup\n",
    "\n",
    "!pip list\n",
    "print('All prereqs installed.')"
   ]
  },
  {
   "cell_type": "markdown",
   "metadata": {},
   "source": [
    "### Question 1"
   ]
  },
  {
   "cell_type": "markdown",
   "metadata": {},
   "source": [
    "1. Find on the internet an article or blog post about a topic that interests you and you are able to get the text for using the technologies we have applied in the course.  Get the html for the article and store it in a file (which you must submit with your project)"
   ]
  },
  {
   "cell_type": "code",
   "execution_count": 5,
   "metadata": {},
   "outputs": [],
   "source": [
    "result = json.loads(requests.get('https://api.lyrics.ovh/v1/Ed%20Sheeran/Perfect').text)\n",
    "\n",
    "# Write the result to a JSON file\n",
    "with open('perfect_lyrics.json', 'w') as json_file:\n",
    "    json.dump(result, json_file, indent=4)\n",
    "\n"
   ]
  },
  {
   "cell_type": "markdown",
   "metadata": {},
   "source": [
    "### Question 2"
   ]
  },
  {
   "cell_type": "markdown",
   "metadata": {},
   "source": [
    "2. Read in your article's html source from the file you created in question 1 and do sentiment analysis on the article/post's text (use `.get_text()`).  Print the polarity score with an appropriate label.  Additionally print the number of sentences in the original article (with an appropriate label)"
   ]
  },
  {
   "cell_type": "code",
   "execution_count": 44,
   "metadata": {},
   "outputs": [
    {
     "name": "stdout",
     "output_type": "stream",
     "text": [
      "The number of lines in the lyrics is 70.\n",
      "\n",
      "Polarity score of the sentiment analysis:\n",
      "0.44442857142857145\n",
      "The sentiment for the song lyrics is positive.\n"
     ]
    }
   ],
   "source": [
    "# Load spaCy model\n",
    "nlp = spacy.load('en_core_web_sm')\n",
    "\n",
    "# Add the TextBlob component to spaCy pipeline\n",
    "nlp.add_pipe('spacytextblob')\n",
    "\n",
    "# Read the contents of the JSON file\n",
    "with open('perfect_lyrics.json', 'r') as json_file:\n",
    "    data = json.load(json_file)\n",
    "\n",
    "# Extract the lyrics from the response\n",
    "lyrics = data.get('lyrics', '')\n",
    "\n",
    "# Split the lyrics into lines\n",
    "lines = lyrics.splitlines()\n",
    "\n",
    "# Count the number of lines\n",
    "num_lines = len(lines)\n",
    "\n",
    "print(f\"The number of lines in the lyrics is {num_lines}.\")  ## I counted the number of lines in the lyrics instead of sentences because it made more sense for the later questions.\n",
    "\n",
    "# Perform sentiment analysis using spaCyTextBlob\n",
    "doc = nlp(lyrics)\n",
    "polarity = doc._.blob.polarity\n",
    "\n",
    "# Print the polarity score\n",
    "print(\"\\nPolarity score of the sentiment analysis:\")\n",
    "print(polarity)\n",
    "\n",
    "# Determine if the sentiment is positive, negative, or neutral.\n",
    "if polarity > 0:\n",
    "    sentiment = \"positive\"\n",
    "elif polarity < 0:\n",
    "    sentiment = \"negative\"\n",
    "else:\n",
    "    sentiment = \"neutral\"\n",
    "print(f\"The sentiment for the song lyrics is {sentiment}.\")\n",
    "\n"
   ]
  },
  {
   "cell_type": "markdown",
   "metadata": {},
   "source": [
    "### Question 3"
   ]
  },
  {
   "cell_type": "markdown",
   "metadata": {},
   "source": [
    "3. Load the article text into a trained `spaCy` pipeline, and determine the 5 most frequent tokens (converted to lower case).  Print the common tokens with an appropriate label.  Additionally, print the tokens their frequencies (with appropriate labels)"
   ]
  },
  {
   "cell_type": "code",
   "execution_count": 20,
   "metadata": {},
   "outputs": [
    {
     "name": "stdout",
     "output_type": "stream",
     "text": [
      "Top 5 Most Frequent Tokens:\n",
      "Token: 'love', Frequency: 5\n",
      "Token: 'darling', Frequency: 5\n",
      "Token: 'found', Frequency: 4\n",
      "Token: 'perfect', Frequency: 4\n",
      "Token: 'baby', Frequency: 3\n"
     ]
    }
   ],
   "source": [
    "# Load the spaCy model\n",
    "nlp = spacy.load(\"en_core_web_sm\")\n",
    "\n",
    "# Process the article text with the spaCy pipeline\n",
    "doc = nlp(lyrics)\n",
    "\n",
    "# Define the tokens we care about\n",
    "def we_care_about(token):\n",
    "    return not (\n",
    "        token.is_space or \n",
    "        token.is_punct or \n",
    "        token.is_stop or \n",
    "        token.like_num  # Exclude numbers\n",
    "    )\n",
    "\n",
    "# Get the interesting tokens (filtered tokens)\n",
    "interesting_tokens = [token for token in doc if we_care_about(token)]\n",
    "\n",
    "# Create a frequency count of the interesting tokens (converted to lowercase)\n",
    "word_freq = Counter(map(lambda token: str(token).lower(), interesting_tokens))\n",
    "\n",
    "# Get the 5 most common tokens\n",
    "mostFreqtokens = word_freq.most_common(5)\n",
    "\n",
    "# Print the common tokens and their frequencies\n",
    "print(\"Top 5 Most Frequent Tokens:\")\n",
    "for token, freq in mostFreqtokens:\n",
    "    print(f\"Token: '{token}', Frequency: {freq}\")"
   ]
  },
  {
   "cell_type": "markdown",
   "metadata": {},
   "source": [
    "### Question 4"
   ]
  },
  {
   "cell_type": "markdown",
   "metadata": {},
   "source": [
    "4. Load the article text into a trained `spaCy` pipeline, and determine the 5 most frequent lemmas (converted to lower case).  Print the common lemmas with an appropriate label.  Additionally, print the lemmas with their frequencies (with appropriate labels)."
   ]
  },
  {
   "cell_type": "code",
   "execution_count": 21,
   "metadata": {},
   "outputs": [
    {
     "name": "stdout",
     "output_type": "stream",
     "text": [
      "Top 5 Most Frequent Lemmas:\n",
      "Lemma: 'look', Frequency: 6\n",
      "Lemma: 'love', Frequency: 5\n",
      "Lemma: 'darling', Frequency: 5\n",
      "Lemma: 'know', Frequency: 5\n",
      "Lemma: 'find', Frequency: 4\n"
     ]
    }
   ],
   "source": [
    "# Extract the lemmas (base forms) of the interesting tokens\n",
    "lemmas = [token.lemma_.lower() for token in interesting_tokens]\n",
    "\n",
    "# Create a frequency count of the lemmas\n",
    "lemma_freq = Counter(lemmas)\n",
    "\n",
    "# Get the 5 most common lemmas\n",
    "most_common_lemmas = lemma_freq.most_common(5)\n",
    "\n",
    "# Print the common lemmas and their frequencies\n",
    "print(\"Top 5 Most Frequent Lemmas:\")\n",
    "for lemma, freq in most_common_lemmas:\n",
    "    print(f\"Lemma: '{lemma}', Frequency: {freq}\")"
   ]
  },
  {
   "cell_type": "markdown",
   "metadata": {},
   "source": [
    "### Question 5"
   ]
  },
  {
   "cell_type": "markdown",
   "metadata": {},
   "source": [
    "5. Make a list containing the scores (using tokens) of every sentence in the article, and plot a histogram with appropriate titles and axis labels of the scores. From your histogram, what seems to be the most common range of scores (put the answer in a comment after your code)?"
   ]
  },
  {
   "cell_type": "code",
   "execution_count": null,
   "metadata": {},
   "outputs": [
    {
     "data": {
      "image/png": "[encoded data removed]",
      "text/plain": [
       "<Figure size 1000x500 with 1 Axes>"
      ]
     },
     "metadata": {},
     "output_type": "display_data"
    }
   ],
   "source": [
    "# Interesting tokens from question 3\n",
    "interesting_tokens = [\"love\", \"darling\", \"found\", \"perfect\", \"baby\"]\n",
    "\n",
    "# Method to score by token\n",
    "def score_sentence_by_token(sentence, interesting_tokens):\n",
    "    tokens = [token.text.lower() for token in sentence if not token.is_punct and not token.is_space]\n",
    "    if len(tokens) == 0:\n",
    "        return 0\n",
    "    interesting_count = sum(1 for token in tokens if token in interesting_tokens)\n",
    "    return interesting_count / len(tokens)\n",
    "\n",
    "# List to store token scores of each sentence\n",
    "token_scores = []\n",
    "\n",
    "# Get scores for all sentences in the article\n",
    "for sentence in doc.sents:\n",
    "    score = score_sentence_by_token(sentence, interesting_tokens)\n",
    "    token_scores.append(score)\n",
    "\n",
    "# Plot the histogram\n",
    "plt.figure(figsize=(10,5))\n",
    "plt.hist(token_scores, bins=20, color='green')\n",
    "plt.title(\"Histogram of Token Scores for Each Sentence\")\n",
    "plt.xlabel(\"Token Score\")\n",
    "plt.ylabel(\"Frequency\")\n",
    "plt.grid(True)\n",
    "plt.show()\n",
    "\n",
    "## The most common range of scores seems to be between 0.00-0.15.\n"
   ]
  },
  {
   "cell_type": "markdown",
   "metadata": {},
   "source": [
    "### Question 6"
   ]
  },
  {
   "cell_type": "markdown",
   "metadata": {},
   "source": [
    "6. Make a list containing the scores (using lemmas) of every sentence in the article, and plot a histogram with appropriate titles and axis labels of the scores.  From your histogram, what seems to be the most common range of scores (put the answer in a comment after your code)?"
   ]
  },
  {
   "cell_type": "code",
   "execution_count": 36,
   "metadata": {},
   "outputs": [
    {
     "data": {
      "image/png": "[encoded data removed]",
      "text/plain": [
       "<Figure size 1200x600 with 1 Axes>"
      ]
     },
     "metadata": {},
     "output_type": "display_data"
    }
   ],
   "source": [
    "# Interesting lemmas from question 4\n",
    "interesting_lemma = [\"look\", \"love\", \"darling\", \"know\", \"find\"]\n",
    "\n",
    "# Method to score by lemma\n",
    "def score_sentence_by_lemma(sentence, interesting_lemma):\n",
    "    lemma = [lemma.text.lower() for lemma in sentence if not lemma.is_punct and not lemma.is_space]\n",
    "    if len(lemma) == 0:\n",
    "        return 0\n",
    "    interesting_count = sum(1 for lemma in lemma if lemma in interesting_lemma)\n",
    "    return interesting_lemma / len(lemma)\n",
    "\n",
    "# List to store lemma scores of each sentence\n",
    "lemma_scores = []\n",
    "\n",
    "# Get scores for all sentences in the article\n",
    "for sentence in doc.sents:\n",
    "    score = score_sentence_by_token(sentence, interesting_lemma)\n",
    "    lemma_scores.append(score)\n",
    "\n",
    "# Plot the histogram\n",
    "plt.figure(figsize=(12,6))\n",
    "plt.hist(lemma_scores, bins=20, color='blue')\n",
    "plt.title(\"Histogram of Lemma Scores for Each Sentence\")\n",
    "plt.xlabel(\"Lemma Score\")\n",
    "plt.ylabel(\"Frequency\")\n",
    "plt.grid(True)\n",
    "plt.show()\n",
    "\n",
    "## The most common range of scores seems to be 0.0 to 0.10.\n"
   ]
  },
  {
   "cell_type": "markdown",
   "metadata": {},
   "source": [
    "### Question 7"
   ]
  },
  {
   "cell_type": "markdown",
   "metadata": {},
   "source": [
    "7. Using the histograms from questions 5 and 6, decide a \"cutoff\" score for tokens and lemmas such that fewer than half the sentences would have a score greater than the cutoff score.  Record the scores in this Markdown cell\n",
    "\n",
    "* Cutoff Score (tokens): .12\n",
    "* Cutoff Score (lemmas): .10\n",
    "\n",
    "Feel free to change these scores as you generate your summaries.  Ideally, we're shooting for at least 6 sentences for our summary, but don't want more than 10 (these numbers are rough estimates; they depend on the length of your article)."
   ]
  },
  {
   "cell_type": "markdown",
   "metadata": {},
   "source": [
    "### Question 8"
   ]
  },
  {
   "cell_type": "markdown",
   "metadata": {},
   "source": [
    "8. Create a summary of the article by going through every sentence in the article and adding it to an (initially) empty list if its score (based on tokens) is greater than the cutoff score you identified in question 8.  If your loop variable is named `sent`, you may find it easier to add `sent.text.strip()` to your list of sentences.  Print the summary (I would cleanly generate the summary text by `join`ing the strings in your list together with a space (`' '.join(sentence_list)`)."
   ]
  },
  {
   "cell_type": "code",
   "execution_count": 37,
   "metadata": {},
   "outputs": [
    {
     "name": "stdout",
     "output_type": "stream",
     "text": [
      "Summary of the Article (Token-Based):\n",
      "And in your eyes you're holding mine\n",
      "\n",
      "\n",
      "\n",
      "Baby, I'm dancing in the dark with you between my arms\n",
      "\n",
      "Barefoot on the grass, listening to our favorite song\n",
      "\n",
      "When you said you looked a mess, I whispered underneath my breath She shares my dreams, I hope that someday I'll share her home\n",
      "\n",
      "I found a love, to carry more than just my secrets\n",
      "\n",
      "To carry love, to carry children of our own\n",
      "\n",
      "We are still kids, but we're so in love\n",
      "\n",
      "Fighting against all odds\n",
      "\n",
      "I know we'll be alright this time\n",
      "\n",
      "Darling, just hold my hand\n",
      "\n",
      "Be my girl, I'll be your man\n",
      "\n",
      "I see my future in your eyes\n",
      "\n",
      "\n",
      "\n",
      "Baby, I'm dancing in the dark, with you between my arms\n",
      "\n",
      "Barefoot on the grass, listening to our favorite song\n",
      "\n",
      "When I saw you in that dress, looking so beautiful\n",
      "\n",
      "I don't deserve this, darling, you look perfect tonight\n",
      "\n",
      "\n",
      "\n",
      "Baby, I'm dancing in the dark, with you between my arms\n",
      "\n",
      "Barefoot on the grass, listening to our favorite song\n",
      "\n",
      "I have faith in what I see\n"
     ]
    }
   ],
   "source": [
    "# Cutoff for Tokens\n",
    "cutoff_score_tokens = 0.12\n",
    "\n",
    "total_tokens = len([token for token in doc if not token.is_punct and not token.is_stop and not token.is_space])\n",
    "\n",
    "summary_sentences = []\n",
    "\n",
    "for sent in doc.sents:\n",
    "    token_count = len([token for token in sent if not token.is_punct and not token.is_stop and not token.is_space])\n",
    "    token_percentage = token_count / total_tokens\n",
    "    if token_percentage > cutoff_score_tokens:\n",
    "        summary_sentences.append(sent.text.strip())\n",
    "\n",
    "summary_tokens = ' '.join(summary_sentences)\n",
    "\n",
    "# Print Summary\n",
    "print(\"Summary of the Article (Token-Based):\")\n",
    "print(summary_tokens)"
   ]
  },
  {
   "cell_type": "markdown",
   "metadata": {},
   "source": [
    "9. Print the polarity score of your summary you generated with the token scores (with an appropriate label). Additionally, print the number of sentences in the summarized article."
   ]
  },
  {
   "cell_type": "code",
   "execution_count": null,
   "metadata": {},
   "outputs": [],
   "source": []
  },
  {
   "cell_type": "markdown",
   "metadata": {},
   "source": [
    "10. Create a summary of the article by going through every sentence in the article and adding it to an (initially) empty list if its score (based on lemmas) is greater than the cutoff score you identified in question 8.  If your loop variable is named `sent`, you may find it easier to add `sent.text.strip()` to your list of sentences.  Print the summary (I would cleanly generate the summary text by `join`ing the strings in your list together with a space (`' '.join(sentence_list)`)."
   ]
  },
  {
   "cell_type": "code",
   "execution_count": null,
   "metadata": {},
   "outputs": [],
   "source": []
  },
  {
   "cell_type": "markdown",
   "metadata": {},
   "source": [
    "11. Print the polarity score of your summary you generated with the lemma scores (with an appropriate label). Additionally, print the number of sentences in the summarized article."
   ]
  },
  {
   "cell_type": "code",
   "execution_count": null,
   "metadata": {},
   "outputs": [],
   "source": []
  },
  {
   "cell_type": "markdown",
   "metadata": {},
   "source": [
    "12.  Compare your polarity scores of your summaries to the polarity scores of the initial article.  Is there a difference?  Why do you think that may or may not be?.  Answer in this Markdown cell.  "
   ]
  },
  {
   "cell_type": "markdown",
   "metadata": {},
   "source": [
    "13. Based on your reading of the original article, which summary do you think is better (if there's a difference).  Why do you think this might be?"
   ]
  }
 ],
 "metadata": {
  "kernelspec": {
   "display_name": ".venv",
   "language": "python",
   "name": "python3"
  },
  "language_info": {
   "codemirror_mode": {
    "name": "ipython",
    "version": 3
   },
   "file_extension": ".py",
   "mimetype": "text/x-python",
   "name": "python",
   "nbconvert_exporter": "python",
   "pygments_lexer": "ipython3",
   "version": "3.12.7"
  }
 },
 "nbformat": 4,
 "nbformat_minor": 4
}
